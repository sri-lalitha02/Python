{
 "cells": [
  {
   "cell_type": "code",
   "execution_count": null,
   "id": "3f74fbb5-f8a5-49cb-bb75-29b2951043a4",
   "metadata": {},
   "outputs": [],
   "source": [
    "# VARIABLES\n",
    " # • Variables are container of data\n",
    " # • Variable holds a value"
   ]
  },
  {
   "cell_type": "code",
   "execution_count": 5,
   "id": "26fc2d96-f9d2-4199-b38c-f3e4b4de8fa5",
   "metadata": {},
   "outputs": [
    {
     "ename": "SyntaxError",
     "evalue": "invalid decimal literal (381941075.py, line 5)",
     "output_type": "error",
     "traceback": [
      "\u001b[1;36m  Cell \u001b[1;32mIn[5], line 5\u001b[1;36m\u001b[0m\n\u001b[1;33m    1num = 10 # invalid , SyntaxError: invalid decimal literal\u001b[0m\n\u001b[1;37m    ^\u001b[0m\n\u001b[1;31mSyntaxError\u001b[0m\u001b[1;31m:\u001b[0m invalid decimal literal\n"
     ]
    }
   ],
   "source": [
    "# Rules to create variable names in Python\n",
    " # Variables names are alpha numeric , but it should not start with digits\n",
    "num1 = 10 # valid\n",
    "print(num1) \n",
    "1num = 10 # invalid , SyntaxError: invalid decimal literal\n",
    "print(1num)"
   ]
  },
  {
   "cell_type": "code",
   "execution_count": 7,
   "id": "52e6ebc2-5cd2-4b48-ac76-ab37092db0ae",
   "metadata": {},
   "outputs": [
    {
     "ename": "SyntaxError",
     "evalue": "cannot assign to expression here. Maybe you meant '==' instead of '='? (2064902169.py, line 7)",
     "output_type": "error",
     "traceback": [
      "\u001b[1;36m  Cell \u001b[1;32mIn[7], line 7\u001b[1;36m\u001b[0m\n\u001b[1;33m    person@1 = 'john'\u001b[0m\n\u001b[1;37m    ^\u001b[0m\n\u001b[1;31mSyntaxError\u001b[0m\u001b[1;31m:\u001b[0m cannot assign to expression here. Maybe you meant '==' instead of '='?\n"
     ]
    }
   ],
   "source": [
    " #No other special character is allowed with variable name except underscore (_) \n",
    " # Variable name can start with underscore and underscore itself can be used asa variable name\n",
    "_ = 100\n",
    "_num2 = 200\n",
    "Product_of_two_numbers = _*_num2\n",
    "print(_ , Product_of_two_numbers)\n",
    "person@1 = 'john'"
   ]
  },
  {
   "cell_type": "code",
   "execution_count": 8,
   "id": "30c4743e-9323-41a6-9f70-a642094a4fc1",
   "metadata": {},
   "outputs": [
    {
     "ename": "SyntaxError",
     "evalue": "invalid syntax (2136116319.py, line 2)",
     "output_type": "error",
     "traceback": [
      "\u001b[1;36m  Cell \u001b[1;32mIn[8], line 2\u001b[1;36m\u001b[0m\n\u001b[1;33m    first name = 'Alice'\u001b[0m\n\u001b[1;37m          ^\u001b[0m\n\u001b[1;31mSyntaxError\u001b[0m\u001b[1;31m:\u001b[0m invalid syntax\n"
     ]
    }
   ],
   "source": [
    " # variable name should not contain whitespaces within\n",
    "first name = 'Alice'"
   ]
  },
  {
   "cell_type": "code",
   "execution_count": 1,
   "id": "6c334d14-c05f-4518-93cf-aed2c3ed37c8",
   "metadata": {},
   "outputs": [
    {
     "ename": "SyntaxError",
     "evalue": "invalid syntax (1383714580.py, line 2)",
     "output_type": "error",
     "traceback": [
      "\u001b[1;36m  Cell \u001b[1;32mIn[1], line 2\u001b[1;36m\u001b[0m\n\u001b[1;33m    def = 10\u001b[0m\n\u001b[1;37m        ^\u001b[0m\n\u001b[1;31mSyntaxError\u001b[0m\u001b[1;31m:\u001b[0m invalid syntax\n"
     ]
    }
   ],
   "source": [
    " #Keywords should not be used as a variable names\n",
    "def = 10"
   ]
  },
  {
   "cell_type": "code",
   "execution_count": 2,
   "id": "7d7b6e10-ea06-4f15-b0f3-f47c472b9d75",
   "metadata": {},
   "outputs": [
    {
     "name": "stdout",
     "output_type": "stream",
     "text": [
      "1000 3000\n"
     ]
    }
   ],
   "source": [
    " # Variable names are case sensitive, means NUM, num, Num will be treated\n",
    " # as different variables due to the differences in case even though they are spelled the same\n",
    "num = 1000\n",
    "Num = 2000\n",
    "NUM = 3000\n",
    "print(num , NUM)"
   ]
  },
  {
   "cell_type": "code",
   "execution_count": 1,
   "id": "bf4fc1ab-01ef-4e56-8c0f-30af41d33128",
   "metadata": {},
   "outputs": [
    {
     "name": "stdout",
     "output_type": "stream",
     "text": [
      "30\n",
      "10 <class 'int'>\n"
     ]
    }
   ],
   "source": [
    "x = 10 # assigning 10 to variable x\n",
    "y = 20\n",
    "print(x+y)\n",
    "# Python variables donot require explicit declaration of type \n",
    "#The type of the variable is based on the value assigned\n",
    "print(x , type(x))"
   ]
  },
  {
   "cell_type": "code",
   "execution_count": 2,
   "id": "78956dc6-32bd-4eac-81b9-e6594cbe1dd4",
   "metadata": {},
   "outputs": [
    {
     "name": "stdout",
     "output_type": "stream",
     "text": [
      "String <class 'str'>\n",
      "1028 1028 1028\n",
      "1 2.91 python\n",
      "Type of sum :  3.91 <class 'float'> Type of P :  10.012 <class 'float'> Type of q :  10 <class 'float'>\n",
      "a--> 21 <class 'int'>\n",
      "b--> 10.99 <class 'float'>\n",
      "c--> 31.990000000000002 <class 'float'>\n",
      "21.0 <class 'float'>\n",
      "10 <class 'int'>\n"
     ]
    }
   ],
   "source": [
    "# Dynamic typing \n",
    "x = 100\n",
    "x = \"String\"\n",
    "print(x , type(x))\n",
    "\n",
    "# Multiple assignments --> assigning same value \n",
    "x = y = z = 1028\n",
    "print(x , y , z)\n",
    "\n",
    "#Assigning different values\n",
    "a , b , c = 1 , 2.91 , \"python\"\n",
    "print(a , b , c)\n",
    "\n",
    "# Type casting \n",
    "p = 10.012\n",
    "q = 10\n",
    "r = a + b\n",
    "print(\"Type of sum : \" , r , type(r) , \"Type of P : \" , p , type(p) , \"Type of q : \" , q , type(r))\n",
    "a = 21\n",
    "b = 10.99\n",
    "c = a+b\n",
    "print(\"a-->\" , a , type(a))\n",
    "print(\"b-->\" , b , type(b))\n",
    "print(\"c-->\" , c , type(c))\n",
    "a = float(a)\n",
    "print(a , type(a))\n",
    "b = (int)(b)\n",
    "print(b , type(b))"
   ]
  },
  {
   "cell_type": "code",
   "execution_count": 6,
   "id": "b94fb5de-d54d-45e7-800c-823671d9ef4f",
   "metadata": {},
   "outputs": [
    {
     "name": "stdout",
     "output_type": "stream",
     "text": [
      "sum :  13\n",
      "subtract :  7\n",
      "product :  30\n",
      "Division :  3.3333333333333335\n",
      "Floor Division :  3\n",
      "Modulus :  1\n",
      "Power :  1000\n",
      "String concatination :  Hello World\n",
      "Conatination of lists:  [10, 20, 30, 40, 50, 60]\n",
      "Concatination of tuples :  (100, 200, 300, 400, 500, 600)\n",
      "Python Python Python Python Python Python Python Python Python Python \n",
      "[10, 10, 10, 10, 10, 10, 10, 10, 10, 10]\n",
      "(101, 202, 101, 202, 101, 202, 101, 202)\n"
     ]
    }
   ],
   "source": [
    "#Operators \n",
    "# Every operation consists two parts\n",
    "# 1. Operand(s) 2. Operator\n",
    "# Operand(s): On which the operation is being performed\n",
    "# Operator: The one which is performing the operation\n",
    "a , b = 10 , 3\n",
    "# 1.Arthemetic operators\n",
    " #Addition (+)\n",
    "print(\"sum : \" , a+b)\n",
    " #Subtraction (-)\n",
    "print(\"subtract : \" ,a-b)\n",
    " #Multiplication (*)\n",
    "print(\"product : \" , a*b)\n",
    " #division (Quotient -- > Actual) (/)\n",
    "print(\"Division : \" , a/b)\n",
    " # Floor division (Quotient ---> Integer) (//)\n",
    "print(\"Floor Division : \" , a//b)\n",
    " # Modulo Division (Remainder) (%)\n",
    "print(\"Modulus : \" , a%b)\n",
    " # Exponentiation (power) --> (**)\n",
    "print(\"Power : \" ,a**b) # (a^b) \n",
    "\n",
    " #Addition(+) operator is used not on only integers and floating pointvalues \n",
    " # it also used on sequence types like string , list , tuple\n",
    " #String \n",
    "print(\"String concatination : \" , \"Hello \" + \"World\")\n",
    " #List \n",
    "list1 = [10 , 20 , 30]\n",
    "list2 = [40 , 50 , 60]\n",
    "print(\"Conatination of lists: \" ,list1 + list2)\n",
    "#Tuple\n",
    "tup1 = (100 , 200 , 300)\n",
    "tup2 = (400 , 500 , 600)\n",
    "print(\"Concatination of tuples : \" , tup1 + tup2)\n",
    " #Multiplication(*) operator is used not only on integers and floating point values\n",
    " # it is also used on list , string  , tuple\n",
    "num = 10\n",
    "name = \"Python \"\n",
    "print(num*name)\n",
    "list3 = [10]\n",
    "print(num*list3)\n",
    "tup3 = (101 , 202)\n",
    "print(4*tup3)\n"
   ]
  },
  {
   "cell_type": "code",
   "execution_count": 10,
   "id": "1ee65ff0-aa71-474e-9fc3-1b387e298183",
   "metadata": {},
   "outputs": [
    {
     "name": "stdout",
     "output_type": "stream",
     "text": [
      "13.5\n",
      "6\n",
      "0\n",
      "10.0\n"
     ]
    }
   ],
   "source": [
    "# Evaluation of Arithmetic Expressions (Operator Precedence and Associativity)\n",
    "# BODMAS rule       | In python PEMDAS rule\n",
    "#B - Brackets       | P - Parantheses\n",
    "#O - Order          | E - Exponentiation\n",
    "#D - Division       | M - Multiplication\n",
    "# M–>Multiplication | D - Division   \n",
    "# A–> Addition      | A - Addition\n",
    "# S–> Subtraction   | S - Subtraction\n",
    "# Priority  Order of Precedence in Arithmetic Operators\n",
    "# 1st (**) , 2nd (* , / , // , %) , 3rd (+ , -)\n",
    "print(3/2+4*3)\n",
    "print(10*4%2+6)\n",
    "\n",
    "#Associativity\n",
    " #if an expression contains operators that are having same precendence , then associativity must be applied\n",
    " #All arthemetic operators in python follow \"left- right associativity\" except exponentiation(**)\n",
    " #Exponentiation follows right - left associativity\n",
    "print(5%2//2*3)\n",
    "print(2**3+4*2/4)"
   ]
  },
  {
   "cell_type": "code",
   "execution_count": 13,
   "id": "6b16dbec-5a65-4943-8536-70cd785b3e84",
   "metadata": {},
   "outputs": [
    {
     "name": "stdout",
     "output_type": "stream",
     "text": [
      "True\n",
      "True\n",
      "False\n",
      "False\n",
      "False\n",
      "True\n",
      "True\n"
     ]
    }
   ],
   "source": [
    "#2.Releational or comparision operators -->return_type bool\n",
    "a = 10\n",
    "b = 2\n",
    "c = 1\n",
    "print(a > b)\n",
    "print(a >= b)\n",
    "print(a < b)\n",
    "print(a <= b)\n",
    "print(a == b)\n",
    "print(a != b)\n",
    "# continuous Reletionalexpression \n",
    "print(a > b > c)"
   ]
  },
  {
   "cell_type": "code",
   "execution_count": 17,
   "id": "be344f3a-a1dd-46b6-b2c0-5d0bd7402b98",
   "metadata": {},
   "outputs": [
    {
     "name": "stdout",
     "output_type": "stream",
     "text": [
      "True\n",
      "False\n",
      "True\n",
      "True\n",
      "True\n",
      "False\n",
      "True\n",
      "False\n"
     ]
    },
    {
     "data": {
      "text/plain": [
       "True"
      ]
     },
     "execution_count": 17,
     "metadata": {},
     "output_type": "execute_result"
    }
   ],
   "source": [
    "# 3. Logical Operators\n",
    " # i. Logical AND (and) --> True if both left and right operands are True , False otherwise\n",
    "print(10 < 20 and 10 < 30)\n",
    "print(10 > 20 and 10 < 30)\n",
    "print(10 == 10 and 10 != 20 and 10 < 20)\n",
    " #ii. Logical OR (or) --> True if one of the operand is true , False otherwise\n",
    "print(10 > 20 or 20 < 30)\n",
    "print(10 < 20 or 20 < 30)\n",
    "print(10 > 20 or 10 > 30)\n",
    "print(10 == 10 or 20 == 10 or 30 < 1 )\n",
    " #iii. Logical NOT(not) --> Inverse the truth\n",
    "print(not(10 > 5))\n",
    "not(20 < 10)"
   ]
  },
  {
   "cell_type": "code",
   "execution_count": 1,
   "id": "e6ba412f-2bea-4bf9-b91a-cdb08d651c0d",
   "metadata": {},
   "outputs": [
    {
     "name": "stdout",
     "output_type": "stream",
     "text": [
      "20\n",
      "15\n",
      "150\n",
      "15.0\n",
      "1.0\n",
      "1.0\n",
      "1.0\n"
     ]
    }
   ],
   "source": [
    "# 4. Assignment operator\n",
    "a = 10 # assign -> =\n",
    "a += 10   # += -> add and assign\n",
    "print(a)\n",
    "a -= 5    # -= -> Subtract and assign\n",
    "print(a)\n",
    "a *= 10   # *= -> Divide and assign\n",
    "print(a)\n",
    "a /= 10   # /= -> floor and assign\n",
    "print(a)\n",
    "a %= 2    # %= -> madulo and assign\n",
    "print(a)\n",
    "a **= 3   # **= ->  power and assign \n",
    "print(a)\n",
    "a //= 1   # //= ->  Floor divide and assign\n",
    "print(a)\n"
   ]
  },
  {
   "cell_type": "code",
   "execution_count": 7,
   "id": "e62a6c94-562b-4838-9daa-21d4a96d4507",
   "metadata": {},
   "outputs": [
    {
     "name": "stdout",
     "output_type": "stream",
     "text": [
      "AND 12\n",
      "AND 8\n",
      "OR 11\n",
      "OR 15\n",
      "XOR 7\n",
      "45056\n",
      "0\n"
     ]
    }
   ],
   "source": [
    "# Bitwise operators\n",
    "#Compares each bit of first operand to the corresponding bit of second operand\n",
    "\n",
    "a = 11\n",
    "b = 12\n",
    "\n",
    "# Bitwise AND (&)\n",
    "#  sets the result bit to 1, if and only if bothbits are 1, otherwise to 0\n",
    "print(\"AND\" , a and b)\n",
    "print(\"AND\" , a & b)\n",
    "\n",
    "# Bitwise OR (|)\n",
    "#  sets the result bit to 1, even if one of the bits is 1, otherwise to 0\n",
    "print(\"OR\" , a or b)\n",
    "print(\"OR\" , a | b)\n",
    "\n",
    "# Bitwise XOR (^)\n",
    "# sets the result bit to 1, if one bit is 0 and the other is 1 or vice versa\n",
    "print(\"XOR\" , a^b)\n",
    "\n",
    "# Left Shift (<<)\n",
    "# Multiplying --> a << b = a*2**b\n",
    "print(a << b)\n",
    "\n",
    "# Right Shift (>>)\n",
    "# Dividing --> a >> b = a//2**b\n",
    "print(a >> b)"
   ]
  },
  {
   "cell_type": "code",
   "execution_count": 1,
   "id": "0d615220-3cea-46e4-83df-13ca2a6ef1b7",
   "metadata": {},
   "outputs": [
    {
     "name": "stdout",
     "output_type": "stream",
     "text": [
      "True\n",
      "False\n",
      "True False\n",
      "True\n",
      "False\n",
      "True\n"
     ]
    }
   ],
   "source": [
    "# Member ship operator\n",
    "# in , not in --> tells if the given element is a member of a iterable\n",
    "# iterable objects : list , string , tuple , set , range\n",
    "print('h' in 'hello')\n",
    "print('H' in 'hello')\n",
    "print('hell' in 'hello' , 'helo' in 'hello')\n",
    "myList = [10 , 20 , 30]\n",
    "print(20 in myList)\n",
    "print(100 in myList)\n",
    "# print(1 in 100) #TyoeError\n",
    "print('1' in '100')\n"
   ]
  },
  {
   "cell_type": "code",
   "execution_count": 3,
   "id": "07dc8944-1bde-4d07-b9f6-d03796e2b211",
   "metadata": {},
   "outputs": [
    {
     "name": "stdin",
     "output_type": "stream",
     "text": [
      "Enter a character :  e\n"
     ]
    },
    {
     "name": "stdout",
     "output_type": "stream",
     "text": [
      "Alphabet\n"
     ]
    }
   ],
   "source": [
    "# To check given character is a alphabet or digit or special character\n",
    "ch = input(\"Enter a character : \")\n",
    "alphabets = \"abcdefghijklmonpqrstuvwxyzABCDEFGHIJKLMNOPQRSTUVWXYZ\"\n",
    "digits = '0123456789'\n",
    "if(ch in alphabets):\n",
    "    print(\"Alphabet\")\n",
    "elif(ch in digit):\n",
    "    print(\"Digit\")\n",
    "else:\n",
    "    print(\"Special Character\")\n",
    "    "
   ]
  }
 ],
 "metadata": {
  "kernelspec": {
   "display_name": "Python 3 (ipykernel)",
   "language": "python",
   "name": "python3"
  },
  "language_info": {
   "codemirror_mode": {
    "name": "ipython",
    "version": 3
   },
   "file_extension": ".py",
   "mimetype": "text/x-python",
   "name": "python",
   "nbconvert_exporter": "python",
   "pygments_lexer": "ipython3",
   "version": "3.13.5"
  }
 },
 "nbformat": 4,
 "nbformat_minor": 5
}
