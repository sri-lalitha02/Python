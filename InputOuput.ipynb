{
 "cells": [
  {
   "cell_type": "code",
   "execution_count": 1,
   "id": "16a03f09-bbb0-46b7-a6b5-2fcfb595e346",
   "metadata": {},
   "outputs": [
    {
     "name": "stdin",
     "output_type": "stream",
     "text": [
      "Enter name :  lalitha\n"
     ]
    },
    {
     "name": "stdout",
     "output_type": "stream",
     "text": [
      " my name is :  lalitha\n"
     ]
    }
   ],
   "source": [
    "name = input(\"Enter name : \")\n",
    "print(\" my name is : \" , name)"
   ]
  },
  {
   "cell_type": "code",
   "execution_count": 2,
   "id": "ba67892b-c7fe-464b-9e5d-39c563e6e00d",
   "metadata": {},
   "outputs": [
    {
     "name": "stdin",
     "output_type": "stream",
     "text": [
      " python\n"
     ]
    },
    {
     "name": "stdout",
     "output_type": "stream",
     "text": [
      "Given name :  python\n",
      "Type of given name is :  <class 'str'>\n"
     ]
    },
    {
     "name": "stdin",
     "output_type": "stream",
     "text": [
      " 1234\n"
     ]
    },
    {
     "name": "stdout",
     "output_type": "stream",
     "text": [
      "Number is :  1234\n",
      "Type of Number is :  <class 'str'>\n"
     ]
    }
   ],
   "source": [
    "# input function defaulty take input as a string\n",
    "name = input()\n",
    "print(\"Given name : \" , name)\n",
    "print(\"Type of given name is : \" , type(name))\n",
    "num = input()\n",
    "print(\"Number is : \" , num)\n",
    "print(\"Type of Number is : \" , type(num))"
   ]
  },
  {
   "cell_type": "code",
   "execution_count": 3,
   "id": "9452777b-2571-41be-872f-91594da1d40b",
   "metadata": {},
   "outputs": [
    {
     "name": "stdin",
     "output_type": "stream",
     "text": [
      " 10\n"
     ]
    },
    {
     "name": "stdout",
     "output_type": "stream",
     "text": [
      "10 <class 'int'>\n"
     ]
    }
   ],
   "source": [
    "# taking specific type of input\n",
    "num = int(input())\n",
    "print(num , type(num))"
   ]
  },
  {
   "cell_type": "code",
   "execution_count": 4,
   "id": "ba0e8483-9505-4d67-8dc1-878df7c6e090",
   "metadata": {},
   "outputs": [
    {
     "name": "stdin",
     "output_type": "stream",
     "text": [
      " 2 5\n"
     ]
    },
    {
     "name": "stdout",
     "output_type": "stream",
     "text": [
      "7\n"
     ]
    },
    {
     "name": "stdin",
     "output_type": "stream",
     "text": [
      " 10 python # 10.980 [10] [10 ,  20] [10,20]\n"
     ]
    },
    {
     "name": "stdout",
     "output_type": "stream",
     "text": [
      "['10', 'python', '#', '10.980', '[10]', '[10', ',', '20]', '[10,20]']\n",
      "9\n"
     ]
    },
    {
     "name": "stdin",
     "output_type": "stream",
     "text": [
      " 1 2 3\n"
     ]
    },
    {
     "name": "stdout",
     "output_type": "stream",
     "text": [
      "sum:  6\n"
     ]
    },
    {
     "name": "stdin",
     "output_type": "stream",
     "text": [
      " sri lalitha gayathri\n"
     ]
    },
    {
     "name": "stdout",
     "output_type": "stream",
     "text": [
      "sri\n"
     ]
    }
   ],
   "source": [
    "# taking multiple inputs\n",
    "x , y = (input()).split()\n",
    "print(int(x) + int(y))\n",
    "# Taking list of inputs\n",
    " # input() -> taking inputs as a string \n",
    " #.split() -> divides the string into parts whenever there is a space \n",
    " #the result is stored as a list\n",
    "lst = (input()).split() \n",
    "print(lst)\n",
    "print(len(lst))\n",
    "x , y , z = map(int , input().split()) # it takes only integers .\n",
    "# Here , the type is mentioned inside the map\n",
    "print(\"sum: \",x+y+z)\n",
    "name1,name2,name3= map(str,input().split()) # Reading strings\n",
    "print(name1)"
   ]
  },
  {
   "cell_type": "code",
   "execution_count": 5,
   "id": "f2e2f5b5-a82f-4b95-a35a-f1566ff9024d",
   "metadata": {},
   "outputs": [
    {
     "name": "stdin",
     "output_type": "stream",
     "text": [
      "Enter numbers seperated by the space :  1 2 3 4 5\n"
     ]
    },
    {
     "name": "stdout",
     "output_type": "stream",
     "text": [
      "5\n",
      "[1, 2, 3, 4, 5]\n",
      "15\n"
     ]
    },
    {
     "name": "stdin",
     "output_type": "stream",
     "text": [
      " 10 20 30 40 50\n"
     ]
    },
    {
     "name": "stdout",
     "output_type": "stream",
     "text": [
      "<map object at 0x0000018F895DBD60>\n",
      "10 20 30 40 50 "
     ]
    }
   ],
   "source": [
    "# Taking list elements by using map\n",
    "lst = list(map(int , input(\"Enter numbers seperated by the space : \").split()))\n",
    "print(len(lst))\n",
    "print(lst)\n",
    "print(sum(lst))\n",
    "nums = map(int , input().split())\n",
    "print(nums) # it prints hashcode because it is not converted into list\n",
    "# print(len(nums)) # typeError bcz it is a map not a list \n",
    "for num in nums:\n",
    "    print(num , end = ' ')\n",
    "# list1 = list(map(input().split())) it is wrong bcz map() --> atleast 2 values--> TypeError"
   ]
  },
  {
   "cell_type": "code",
   "execution_count": 6,
   "id": "dace5823-6853-49c3-82bb-8b64eed8b823",
   "metadata": {},
   "outputs": [
    {
     "name": "stdin",
     "output_type": "stream",
     "text": [
      "Enter the size of list 4\n",
      " 10\n",
      " python\n",
      " 10.09876\n",
      " [10]\n"
     ]
    },
    {
     "name": "stdout",
     "output_type": "stream",
     "text": [
      "['10', 'python', '10.09876', '[10]']\n"
     ]
    },
    {
     "name": "stdin",
     "output_type": "stream",
     "text": [
      "Enter the size of list 4\n",
      " 1\n",
      " 2\n",
      " 3\n",
      " 4\n"
     ]
    },
    {
     "name": "stdout",
     "output_type": "stream",
     "text": [
      "[1, 2, 3, 4]\n"
     ]
    },
    {
     "name": "stdin",
     "output_type": "stream",
     "text": [
      "Enter the size of list :  4\n",
      "Enter element  Python \n",
      "Enter element  java\n",
      "Enter element  c\n",
      "Enter element  cpp\n"
     ]
    },
    {
     "name": "stdout",
     "output_type": "stream",
     "text": [
      "['Python ', 'java', 'c', 'cpp']\n"
     ]
    },
    {
     "name": "stdin",
     "output_type": "stream",
     "text": [
      "Enter element :  1,2,3 4,5,5\n"
     ]
    },
    {
     "name": "stdout",
     "output_type": "stream",
     "text": [
      "[['1', '2', '3'], ['4', '5', '5']]\n"
     ]
    }
   ],
   "source": [
    "# taking list of elements by using loop\n",
    "lst = []\n",
    "n = int(input(\"Enter the size of list\"))\n",
    "for i in range(n):\n",
    "    ele = input()\n",
    "    lst.append(ele)\n",
    "print(lst)\n",
    "lst = []\n",
    "n = int(input(\"Enter the size of list\"))\n",
    "for i in range(n):\n",
    "    ele = int(input())\n",
    "    lst.append(ele)\n",
    "print(lst)\n",
    "# taking list elements in 1 line\n",
    "n = int(input(\"Enter the size of list : \" ))\n",
    "languages = [input(\"Enter element \") for i in range(n)]\n",
    "print(languages)\n",
    "lst1 = [x.split(',') for x in input(\"Enter element : \" ).split(\" \")]\n",
    "print(lst1)"
   ]
  },
  {
   "cell_type": "code",
   "execution_count": 7,
   "id": "b10344bd-e0a0-4b55-94e0-95d29afb65b5",
   "metadata": {},
   "outputs": [
    {
     "name": "stdin",
     "output_type": "stream",
     "text": [
      " 12 10\n"
     ]
    },
    {
     "name": "stdout",
     "output_type": "stream",
     "text": [
      "sum is :  22\n",
      "sum of x and y is:  22\n",
      "Sum of 12 and 10 is:  22\n"
     ]
    }
   ],
   "source": [
    "x , y = input().split()\n",
    "z = int(x) + int(y)\n",
    "print(\"sum is : \" , z)\n",
    "print(\"sum of x and y is: \" , z)\n",
    "print(\"Sum of\" , x , \"and\" , y , \"is: \" , z)"
   ]
  },
  {
   "cell_type": "code",
   "execution_count": 8,
   "id": "3b4142ad-8289-4d03-81fb-07d330aed03b",
   "metadata": {},
   "outputs": [
    {
     "name": "stdin",
     "output_type": "stream",
     "text": [
      " 10 20\n"
     ]
    },
    {
     "name": "stdout",
     "output_type": "stream",
     "text": [
      "Sum of 10 and 20 is 30\n"
     ]
    },
    {
     "name": "stdin",
     "output_type": "stream",
     "text": [
      " 20\n",
      " 30\n"
     ]
    },
    {
     "name": "stdout",
     "output_type": "stream",
     "text": [
      "Sum of 20 and 30 is 50\n"
     ]
    }
   ],
   "source": [
    "#using .format method\n",
    "x , y = input().split()\n",
    "z = int(x) + int(y)\n",
    "print(\"Sum of {} and {} is {}\".format(x,y,z))\n",
    "#using f strings \n",
    "a = int(input())\n",
    "b = int(input())\n",
    "c = a + b\n",
    "print(f\"Sum of {a} and {b} is {c}\")"
   ]
  },
  {
   "cell_type": "code",
   "execution_count": 9,
   "id": "5395694e-f25c-4f17-81a4-83f2e05249e6",
   "metadata": {},
   "outputs": [
    {
     "name": "stdin",
     "output_type": "stream",
     "text": [
      " 5\n"
     ]
    },
    {
     "name": "stdout",
     "output_type": "stream",
     "text": [
      "Area of a Square with side of length 5 is 25\n",
      "Perimeter of a Square with side length 5 is 20\n"
     ]
    }
   ],
   "source": [
    "# Area and perimeter of a square\n",
    "side = int(input())\n",
    "area = side*side\n",
    "perimeter = 4*side\n",
    "print(f\"Area of a Square with side of length {side} is {area}\")\n",
    "print(f\"Perimeter of a Square with side length {side} is {perimeter}\")"
   ]
  },
  {
   "cell_type": "code",
   "execution_count": 10,
   "id": "99954ac1-32a2-41de-ba61-26691b38eb9a",
   "metadata": {},
   "outputs": [
    {
     "name": "stdout",
     "output_type": "stream",
     "text": [
      "3.14\n",
      "3.14\n",
      "3.142\n"
     ]
    }
   ],
   "source": [
    "# Adjusting a float point values to specefic decimals\n",
    "# using % formatting\n",
    "pi = 3.141592653\n",
    "print(\"%.2f\"%pi)\n",
    "# here we are using %f to represent a floating point value and\n",
    "# .2 to adjust it to 2 decimal places after point\n",
    "\n",
    "#   Using .format()\n",
    "print(\"{:.2f}\".format(pi))\n",
    "#  Using f strings \n",
    "print(f\"{pi:.3f}\")"
   ]
  }
 ],
 "metadata": {
  "kernelspec": {
   "display_name": "Python 3 (ipykernel)",
   "language": "python",
   "name": "python3"
  },
  "language_info": {
   "codemirror_mode": {
    "name": "ipython",
    "version": 3
   },
   "file_extension": ".py",
   "mimetype": "text/x-python",
   "name": "python",
   "nbconvert_exporter": "python",
   "pygments_lexer": "ipython3",
   "version": "3.13.5"
  }
 },
 "nbformat": 4,
 "nbformat_minor": 5
}
