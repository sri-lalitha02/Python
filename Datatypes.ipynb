{
 "cells": [
  {
   "cell_type": "code",
   "execution_count": 2,
   "id": "d8d11cd6-6092-4489-8448-be7e352b8d04",
   "metadata": {},
   "outputs": [
    {
     "name": "stdin",
     "output_type": "stream",
     "text": [
      " 5\n"
     ]
    },
    {
     "name": "stdout",
     "output_type": "stream",
     "text": [
      "5 <class 'int'>\n"
     ]
    },
    {
     "name": "stdin",
     "output_type": "stream",
     "text": [
      " 1\n"
     ]
    },
    {
     "name": "stdout",
     "output_type": "stream",
     "text": [
      "1.0 <class 'float'>\n",
      "(5+1j) (10+4j) <class 'complex'> <class 'complex'>\n",
      "False <class 'bool'>\n"
     ]
    }
   ],
   "source": [
    "#Datatypes\n",
    "# 1. Numeric \n",
    "# a) int\n",
    "a = int(input())\n",
    "print(a , type(a))\n",
    "# b) float \n",
    "b = float(input())\n",
    "# print(b , type(b))\n",
    "# c) complex\n",
    "c = complex(a , b) \n",
    "x = 10 + 4j\n",
    "print(c , x , type(c) , type(x))\n",
    "# 2. bool (True , False)\n",
    "d = a < b\n",
    "print(d , type(d))"
   ]
  },
  {
   "cell_type": "code",
   "execution_count": 2,
   "id": "941b52cb-f31b-4a5d-b81f-e62eefaf0820",
   "metadata": {},
   "outputs": [
    {
     "name": "stdout",
     "output_type": "stream",
     "text": [
      "jupyter notebook <class 'str'>\n",
      "idx -> 1  u\n",
      "idx -> -2  o\n",
      "size of string 16\n",
      "Slicing uye oeo\n",
      "java is \"Structured language\" and Typed language <class 'str'>\n",
      "Python <class 'str'>\n"
     ]
    }
   ],
   "source": [
    "#3.Sequence DataType (Ordered collection of items)\n",
    "# The elements are similar or different types and it allows to storing multiple values in organized and multiple fasion\n",
    "\n",
    "# 1. String\n",
    "#Every thing within double quotes or single quotes or triple quotes are treated as a string\n",
    "name = \"jupyter notebook\"\n",
    "print(name , type(name))\n",
    "print(\"idx -> 1 \" , name[1])\n",
    "print(\"idx -> -2 \" , name[-2]) #accessing element from last\n",
    "print(\"size of string\" , len(name)) #len() is used to find length of string\n",
    "print(\"Slicing\" , name[1:15:2]) #slicing ->Syntax : name[start:stop:step]\n",
    "\n",
    "name1 = 'java is \"Structured language\" and Typed language'\n",
    "print(name1 , type(name1))\n",
    "name2 = '''Python'''\n",
    "print(name2 , type(name2))"
   ]
  },
  {
   "cell_type": "code",
   "execution_count": 5,
   "id": "62fde66f-2061-4f12-8f50-7b5a31bbb5af",
   "metadata": {},
   "outputs": [
    {
     "name": "stdout",
     "output_type": "stream",
     "text": [
      "[]\n",
      "[1, 2, 4, 8] <class 'list'>\n",
      "At idx 2 4\n",
      "At idx -2 4\n",
      "len of list 4\n",
      "['Python', 123, 18.9, (2+4j), 'java'] <class 'list'>\n",
      "5\n",
      "At idx  0 ---> Python  --->  <class 'str'>\n",
      "At idx  1 ---> 123  --->  <class 'int'>\n",
      "At idx  2 ---> 18.9  --->  <class 'float'>\n",
      "At idx  3 ---> (2+4j)  --->  <class 'complex'>\n",
      "At idx  4 ---> java  --->  <class 'str'>\n"
     ]
    }
   ],
   "source": [
    "# 2. List  (Arrays in c , c++ , java) \n",
    "# it contains ordered collection of objects\n",
    "# here different type of elements are taken whereas in java , c only specefic type of elements are taken in arrays\n",
    "# List elements are enclosed by square braces[]\n",
    "nums2 = []\n",
    "print(nums2)\n",
    "\n",
    "# Homogeneous List ->list that contain elements of same type\n",
    "nums = [1 , 2 , 4, 8]\n",
    "# idx's :0  1   2  3\n",
    "# idx's :-4 -3 -2  -1\n",
    "print(nums , type(nums))\n",
    "# Acessing elements\n",
    "#List index starts from 0\n",
    "print(\"At idx 2\" , nums[2])\n",
    "print(\"At idx -2\" , nums[-2])\n",
    "print(\"len of list\" , len(nums)) # len() ->find length of list\n",
    "\n",
    "# Heterogeneous List -> A List that contain elements of Different Types\n",
    "list1 = ['Python' , 123 , 18.90 , 2+4j , 'java']\n",
    "print(list1 , type(list1))\n",
    "print(len(list1))\n",
    "for i in range(5):\n",
    "    print(\"At idx \" , i , \"--->\" , list1[i] , \" ---> \" , type(list1[i]))"
   ]
  },
  {
   "cell_type": "code",
   "execution_count": 6,
   "id": "de377916-376b-4a0c-b7ca-920f89229b0d",
   "metadata": {},
   "outputs": [
    {
     "name": "stdout",
     "output_type": "stream",
     "text": [
      "(1, 2, 3, 90) <class 'tuple'>\n",
      "At idx --> 1 is  2\n",
      "At idx --> -1 is  90\n",
      "At idx  0  -->  python --> <class 'str'>\n",
      "At idx  1  -->  cpp --> <class 'str'>\n",
      "At idx  2  -->  2 --> <class 'int'>\n",
      "At idx  3  -->  5.986 --> <class 'float'>\n",
      "At idx  4  -->  (2+6j) --> <class 'complex'>\n"
     ]
    }
   ],
   "source": [
    "# 3.Tuple \n",
    "# Tuple contains ordered collection of elements(objects)\n",
    "#Elements can be enclosed within in the round braces()\n",
    "# ** Tuple is immutable i.e it cannot be modified after creating\n",
    "\n",
    "tup1 = ()\n",
    "tup2 = (1 , 2 , 3 , 90)\n",
    "#idx's: 0   1   2    3\n",
    "#idx's: -4 -3  -2   -1\n",
    "print(tup2 , type(tup2))\n",
    "\n",
    "# Accesing elements \n",
    "print(\"At idx --> 1 is \",tup2[1]) # by using square_braces([]) we can access\n",
    "print(\"At idx --> -1 is \",tup2[-1])\n",
    "\n",
    "tup3 = ['python' , 'cpp' , 2 , 5.986 , 2+6j]\n",
    "for i in range(len(tup3)):\n",
    "    print(\"At idx \" , i , \" --> \" , tup3[i] , \"-->\" , type(tup3[i]))"
   ]
  },
  {
   "cell_type": "code",
   "execution_count": 9,
   "id": "d7a2c0a8-5961-43a6-927e-014d0cddf5b5",
   "metadata": {},
   "outputs": [
    {
     "name": "stdout",
     "output_type": "stream",
     "text": [
      "{} <class 'dict'>\n",
      "{40, 10, 20, 50} <class 'set'>\n",
      "length of set :  4\n",
      "40 10 20 50 \n",
      "{1, 2, 3, 4, 5} <class 'set'>\n"
     ]
    }
   ],
   "source": [
    "# 4. Set\n",
    "# Set contains unordered collections of elements\n",
    "# Elements can be enclosed within the curlyBraces{}\n",
    "#set can not hold duplicates\n",
    "set1 = {}\n",
    "print(set1 , type(set1))\n",
    "\n",
    "set2 = {10 , 20 ,40 , 50 , 20 , 20, 10}\n",
    "print(set2 , type(set2))\n",
    "print(\"length of set : \" ,len(set2))\n",
    "#Acessing elements \n",
    "#set cannot be accesses based on indexes\n",
    "for i in set2:\n",
    "    print(i , end=\" \")\n",
    "print()\n",
    "#set can be created based on built in set function i.e set()\n",
    "set3 = set([1 , 2 , 4 , 5 , 1 , 2 , 3])\n",
    "print(set3 , type(set3))"
   ]
  },
  {
   "cell_type": "code",
   "execution_count": 1,
   "id": "80d4b48c-1bdb-4ae6-bffc-24f458b69ae8",
   "metadata": {},
   "outputs": [
    {
     "name": "stdout",
     "output_type": "stream",
     "text": [
      "{}\n",
      "{1: 'java', 2: 'Python', 3: 'Cpp', 4: 'C'} <class 'dict'>\n",
      "java\n",
      "Cpp\n",
      "{1: 'java', 2: 'Python', 3: 'Cpp', 4: 'C', 'Web development': 'HTML & CSS'} <class 'dict'>\n"
     ]
    }
   ],
   "source": [
    "#5. Dictionary\n",
    "# A Dictonary is used to store data values Like a map\n",
    "# Dictonary can holds the key - value pairs\n",
    "# key - values pair in dictonary is seperated by colon (:) , whereas each key is seperated by comma(,)\n",
    "# values in dictonary can be duplicated\n",
    "# keys cannot be repeated and must be immutable\n",
    "# Syntax = {key1 : value1 , key2 : value2 , ...}\n",
    "\n",
    "dict1 = {}\n",
    "print(dict1)\n",
    "dict2 = { 1 : 'java' , 2 : \"Python\" , 3 : '''Cpp''' , 4 : \"C\"}\n",
    "print(dict2 , type(dict2))\n",
    "\n",
    "#Accesing element\n",
    "print(dict2[1]) #dictonary_name[key]\n",
    "print(dict2.get(3)) #dictonary_name.get(key)\n",
    "\n",
    "#Add new type\n",
    "dict2['Web development'] = 'HTML & CSS'\n",
    "print(dict2 , type(dict2))"
   ]
  }
 ],
 "metadata": {
  "kernelspec": {
   "display_name": "Python 3 (ipykernel)",
   "language": "python",
   "name": "python3"
  },
  "language_info": {
   "codemirror_mode": {
    "name": "ipython",
    "version": 3
   },
   "file_extension": ".py",
   "mimetype": "text/x-python",
   "name": "python",
   "nbconvert_exporter": "python",
   "pygments_lexer": "ipython3",
   "version": "3.13.5"
  }
 },
 "nbformat": 4,
 "nbformat_minor": 5
}
